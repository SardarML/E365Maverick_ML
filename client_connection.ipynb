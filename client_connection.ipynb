{
 "cells": [
  {
   "cell_type": "code",
   "execution_count": 2,
   "metadata": {},
   "outputs": [
    {
     "name": "stdout",
     "output_type": "stream",
     "text": [
      "^C\n"
     ]
    }
   ],
   "source": [
    "# !pip install git+https://github.com/mumi/entitygraph-client.git"
   ]
  },
  {
   "cell_type": "code",
   "execution_count": 1,
   "metadata": {},
   "outputs": [],
   "source": [
    "import entitygraph\n",
    "from entitygraph import Application, Entity"
   ]
  },
  {
   "cell_type": "code",
   "execution_count": 2,
   "metadata": {},
   "outputs": [],
   "source": [
    "host = \"https://entitygraph.azurewebsites.net\"\n",
    "path = \"api/entities\"\n",
    "key = \"Tzre7295T10z1K\"\n",
    "application = \"serlo\""
   ]
  },
  {
   "cell_type": "code",
   "execution_count": 3,
   "metadata": {},
   "outputs": [],
   "source": [
    "client = entitygraph.Client(api_key=key)\n",
    "entitygraph.connect(host=host, api_key=key)\n",
    "app = Application().get_by_label(application)"
   ]
  },
  {
   "cell_type": "code",
   "execution_count": 5,
   "metadata": {},
   "outputs": [],
   "source": [
    "query_str = \"\"\"\n",
    "\n",
    "PREFIX schema: <http://schema.org/>\n",
    "PREFIX sdo: <https://schema.org/>\n",
    "\n",
    "SELECT ?article ?name ?contentUrl ?value\n",
    "WHERE {\n",
    "    ?article a schema:Article .\n",
    "    ?article schema:name ?name .\n",
    "    ?article sdo:text ?MediaObject .\n",
    "    ?MediaObject sdo:contentUrl ?contentUrl .\n",
    "    ?article schema:identifier/schema:value ?value .\n",
    "}\n",
    "\n",
    "LIMIT 10\n",
    "\n",
    "\"\"\""
   ]
  },
  {
   "cell_type": "code",
   "execution_count": 6,
   "metadata": {},
   "outputs": [],
   "source": [
    "serlo_df = app.Query().select(query_str)"
   ]
  },
  {
   "cell_type": "code",
   "execution_count": 7,
   "metadata": {},
   "outputs": [
    {
     "data": {
      "text/html": [
       "<div>\n",
       "<style scoped>\n",
       "    .dataframe tbody tr th:only-of-type {\n",
       "        vertical-align: middle;\n",
       "    }\n",
       "\n",
       "    .dataframe tbody tr th {\n",
       "        vertical-align: top;\n",
       "    }\n",
       "\n",
       "    .dataframe thead th {\n",
       "        text-align: right;\n",
       "    }\n",
       "</style>\n",
       "<table border=\"1\" class=\"dataframe\">\n",
       "  <thead>\n",
       "    <tr style=\"text-align: right;\">\n",
       "      <th></th>\n",
       "      <th>article</th>\n",
       "      <th>contentUrl</th>\n",
       "      <th>value</th>\n",
       "      <th>name</th>\n",
       "    </tr>\n",
       "  </thead>\n",
       "  <tbody>\n",
       "    <tr>\n",
       "      <th>0</th>\n",
       "      <td>urn:pwid:meg:e:serlo.m7my7hxx</td>\n",
       "      <td>/content/s/serlo/g1ybvgxx</td>\n",
       "      <td>39986</td>\n",
       "      <td>Wie mikroskopiere ich richtig?</td>\n",
       "    </tr>\n",
       "    <tr>\n",
       "      <th>1</th>\n",
       "      <td>urn:pwid:meg:e:serlo.b2qvlsvx</td>\n",
       "      <td>/content/s/serlo/bjrsu0cx</td>\n",
       "      <td>1543</td>\n",
       "      <td>Kathete</td>\n",
       "    </tr>\n",
       "    <tr>\n",
       "      <th>2</th>\n",
       "      <td>urn:pwid:meg:e:serlo.bpse2dkx</td>\n",
       "      <td>/content/s/serlo/bvk7yrlx</td>\n",
       "      <td>1513</td>\n",
       "      <td>Diskriminante</td>\n",
       "    </tr>\n",
       "    <tr>\n",
       "      <th>3</th>\n",
       "      <td>urn:pwid:meg:e:serlo.b6ujs1ex</td>\n",
       "      <td>/content/s/serlo/569zhoxx</td>\n",
       "      <td>2003</td>\n",
       "      <td>Exponentialgleichung</td>\n",
       "    </tr>\n",
       "    <tr>\n",
       "      <th>4</th>\n",
       "      <td>urn:pwid:meg:e:serlo.ph_5eoxx</td>\n",
       "      <td>/content/s/serlo/1he3lfxx</td>\n",
       "      <td>27023</td>\n",
       "      <td>Wie funktionieren Experimente?</td>\n",
       "    </tr>\n",
       "    <tr>\n",
       "      <th>5</th>\n",
       "      <td>urn:pwid:meg:e:serlo.z2s562xx</td>\n",
       "      <td>/content/s/serlo/cqhl3txx</td>\n",
       "      <td>1537</td>\n",
       "      <td>Das Koordinatensystem</td>\n",
       "    </tr>\n",
       "    <tr>\n",
       "      <th>6</th>\n",
       "      <td>urn:pwid:meg:e:serlo.br5z40rx</td>\n",
       "      <td>/content/s/serlo/wad8y7xx</td>\n",
       "      <td>1545</td>\n",
       "      <td>BrÃ¼che potenzieren</td>\n",
       "    </tr>\n",
       "    <tr>\n",
       "      <th>7</th>\n",
       "      <td>urn:pwid:meg:e:serlo.btp7toxx</td>\n",
       "      <td>/content/s/serlo/9ed3dkxx</td>\n",
       "      <td>1541</td>\n",
       "      <td>Hypotenuse</td>\n",
       "    </tr>\n",
       "    <tr>\n",
       "      <th>8</th>\n",
       "      <td>urn:pwid:meg:e:serlo.j2nc45xx</td>\n",
       "      <td>/content/s/serlo/bb_vds0x</td>\n",
       "      <td>1547</td>\n",
       "      <td>Quersumme</td>\n",
       "    </tr>\n",
       "    <tr>\n",
       "      <th>9</th>\n",
       "      <td>urn:pwid:meg:e:serlo.b7bp5qqx</td>\n",
       "      <td>/content/s/serlo/kyrazrxx</td>\n",
       "      <td>1539</td>\n",
       "      <td>Winkelhalbierende</td>\n",
       "    </tr>\n",
       "  </tbody>\n",
       "</table>\n",
       "</div>"
      ],
      "text/plain": [
       "                         article                 contentUrl  value  \\\n",
       "0  urn:pwid:meg:e:serlo.m7my7hxx  /content/s/serlo/g1ybvgxx  39986   \n",
       "1  urn:pwid:meg:e:serlo.b2qvlsvx  /content/s/serlo/bjrsu0cx   1543   \n",
       "2  urn:pwid:meg:e:serlo.bpse2dkx  /content/s/serlo/bvk7yrlx   1513   \n",
       "3  urn:pwid:meg:e:serlo.b6ujs1ex  /content/s/serlo/569zhoxx   2003   \n",
       "4  urn:pwid:meg:e:serlo.ph_5eoxx  /content/s/serlo/1he3lfxx  27023   \n",
       "5  urn:pwid:meg:e:serlo.z2s562xx  /content/s/serlo/cqhl3txx   1537   \n",
       "6  urn:pwid:meg:e:serlo.br5z40rx  /content/s/serlo/wad8y7xx   1545   \n",
       "7  urn:pwid:meg:e:serlo.btp7toxx  /content/s/serlo/9ed3dkxx   1541   \n",
       "8  urn:pwid:meg:e:serlo.j2nc45xx  /content/s/serlo/bb_vds0x   1547   \n",
       "9  urn:pwid:meg:e:serlo.b7bp5qqx  /content/s/serlo/kyrazrxx   1539   \n",
       "\n",
       "                             name  \n",
       "0  Wie mikroskopiere ich richtig?  \n",
       "1                         Kathete  \n",
       "2                   Diskriminante  \n",
       "3           Exponentialgleichung   \n",
       "4  Wie funktionieren Experimente?  \n",
       "5           Das Koordinatensystem  \n",
       "6             BrÃ¼che potenzieren  \n",
       "7                      Hypotenuse  \n",
       "8                       Quersumme  \n",
       "9               Winkelhalbierende  "
      ]
     },
     "metadata": {},
     "output_type": "display_data"
    }
   ],
   "source": [
    "display(serlo_df)"
   ]
  }
 ],
 "metadata": {
  "kernelspec": {
   "display_name": "Python 3.10.11 ('.venv': venv)",
   "language": "python",
   "name": "python3"
  },
  "language_info": {
   "codemirror_mode": {
    "name": "ipython",
    "version": 3
   },
   "file_extension": ".py",
   "mimetype": "text/x-python",
   "name": "python",
   "nbconvert_exporter": "python",
   "pygments_lexer": "ipython3",
   "version": "3.10.11"
  },
  "orig_nbformat": 4,
  "vscode": {
   "interpreter": {
    "hash": "25b993c640731c8426988fc451b24dd62580210dab2a6a4377063071e90397db"
   }
  }
 },
 "nbformat": 4,
 "nbformat_minor": 2
}
