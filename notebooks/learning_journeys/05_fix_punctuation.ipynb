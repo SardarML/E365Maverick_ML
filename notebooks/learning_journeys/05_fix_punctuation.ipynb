{
 "cells": [
  {
   "attachments": {},
   "cell_type": "markdown",
   "metadata": {},
   "source": [
    "## This notebook aims to fix the punctuation that was created by youtube in their transcripts. "
   ]
  },
  {
   "cell_type": "code",
   "execution_count": null,
   "metadata": {},
   "outputs": [],
   "source": [
    "import json\n",
    "import pandas as pd\n",
    "import numpy as np\n",
    "from deepmultilingualpunctuation import PunctuationModel\n",
    "import pickle\n",
    "from tqdm import tqdm\n"
   ]
  },
  {
   "cell_type": "code",
   "execution_count": null,
   "metadata": {},
   "outputs": [],
   "source": [
    "def get_data(path): \n",
    "        merged_df = pd.read_csv(path)\n",
    "        strings = merged_df['String']\n",
    "        str_lst = strings.values\n",
    "\n",
    "        vocab = merged_df['Title'].values\n",
    "        identifier = merged_df['identifier']\n",
    "        identifier_vocab = pd.DataFrame({'ID': identifier, 'Vocab': vocab})\n",
    "        identifier_vocab = identifier_vocab.set_index('Vocab')['ID'].to_dict()\n",
    "        return merged_df, str_lst, vocab, identifier_vocab, identifier\n",
    "\n",
    "\n",
    "merged_df, str_lst, vocab, identifier_vocab, identifier = get_data('data/merged_data_for_AI.csv')\n"
   ]
  },
  {
   "cell_type": "code",
   "execution_count": null,
   "metadata": {},
   "outputs": [],
   "source": [
    "model = PunctuationModel()\n"
   ]
  },
  {
   "cell_type": "code",
   "execution_count": null,
   "metadata": {},
   "outputs": [],
   "source": [
    "corrected = []\n",
    "start_index = 0\n",
    "end_index = len(merged_df[\"transcript\"])\n",
    "total_iterations = end_index- start_index\n",
    "with tqdm(total=total_iterations) as pbar:\n",
    "    for index, t in enumerate(merged_df[\"transcript\"][start_index:end_index]):\n",
    "        if index % 1000 == 0:\n",
    "            # Save the corrected list to disk\n",
    "            with open(f'corrected_transcripts_'+str(start_index) + 'to' + str(end_index) + '.pkl', 'wb') as f:\n",
    "                pickle.dump(corrected, f)\n",
    "        try:\n",
    "            result = model.restore_punctuation(t)\n",
    "            corrected.append(result)\n",
    "        except Exception as e:\n",
    "            print(e)\n",
    "            corrected.append(\"ERROR: \" + repr(e))\n",
    "        pbar.update(1)\n",
    "\n",
    "# Save the final corrected list to disk\n",
    "with open(f'corrected_transcripts_'+str(start_index) + 'to' + str(end_index) + '_final.pkl', 'wb') as f:\n",
    "                pickle.dump(corrected, f)\n"
   ]
  }
 ],
 "metadata": {
  "kernelspec": {
   "display_name": "gpt",
   "language": "python",
   "name": "gpt"
  },
  "language_info": {
   "codemirror_mode": {
    "name": "ipython",
    "version": 3
   },
   "file_extension": ".py",
   "mimetype": "text/x-python",
   "name": "python",
   "nbconvert_exporter": "python",
   "pygments_lexer": "ipython3",
   "version": "3.10.11"
  },
  "orig_nbformat": 4
 },
 "nbformat": 4,
 "nbformat_minor": 2
}
