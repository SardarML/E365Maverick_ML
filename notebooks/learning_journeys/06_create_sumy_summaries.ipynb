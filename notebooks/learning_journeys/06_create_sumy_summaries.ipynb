{
 "cells": [
  {
   "attachments": {},
   "cell_type": "markdown",
   "metadata": {},
   "source": [
    "## Notebook to create summaries using sumy"
   ]
  },
  {
   "cell_type": "code",
   "execution_count": null,
   "metadata": {},
   "outputs": [],
   "source": [
    "import numpy as np\n",
    "import pickle\n",
    "import pandas as pd"
   ]
  },
  {
   "cell_type": "code",
   "execution_count": null,
   "metadata": {},
   "outputs": [],
   "source": [
    "with open(\"data/punctuation_correction/corrected_transcripts_all.pkl\", \"rb\") as file:\n",
    "    co_transcripts = pickle.load(file)\n"
   ]
  },
  {
   "cell_type": "code",
   "execution_count": null,
   "metadata": {},
   "outputs": [],
   "source": [
    "import multiprocessing\n",
    "from sumy.parsers.plaintext import PlaintextParser\n",
    "from sumy.nlp.tokenizers import Tokenizer\n",
    "from sumy.summarizers.lex_rank import LexRankSummarizer\n",
    "from sumy.utils import get_stop_words\n",
    "\n",
    "def summarize_text(index, text):\n",
    "    parser = PlaintextParser.from_string(text, Tokenizer(\"de\"))\n",
    "    summarizer = LexRankSummarizer()\n",
    "    summarizer.stop_words = get_stop_words(\"de\")\n",
    "\n",
    "    summary = summarizer(parser.document, 10)  # Summarize into 10 sentences\n",
    "    summary_text = \" \".join(str(sentence) for sentence in summary)\n",
    "\n",
    "    return index, summary_text\n",
    "    \n",
    "def summarize_texts_with_multiprocessing(texts):\n",
    "    #texts is a list of the texts we want to create a summary for\n",
    "    summaries = []\n",
    "    processed_count = 0\n",
    "    index = 0\n",
    "    def update_progress(index):\n",
    "        nonlocal processed_count\n",
    "        processed_count += 1\n",
    "        if processed_count % 200 == 0:\n",
    "            print(\"Processed index:\", index)\n",
    "            with open(\"data/punctuation_correction/summaries/summaries_tmp.pkl\", \"wb+\") as file:\n",
    "                pickle.dump(summaries,file)\n",
    "\n",
    "    with multiprocessing.Pool() as pool:\n",
    "        results = []\n",
    "        for index, text in enumerate(texts):\n",
    "            results.append(pool.apply_async(summarize_text, args=(index, text), callback=update_progress))\n",
    "\n",
    "        for result in results:\n",
    "            index, summary_text = result.get()\n",
    "            summaries.append({\"index\": index, \"summary\": summary_text})\n",
    "\n",
    "    return summaries"
   ]
  },
  {
   "cell_type": "code",
   "execution_count": null,
   "metadata": {},
   "outputs": [],
   "source": [
    "#create summaries \n",
    "summaries = summarize_texts_with_multiprocessing(co_transcripts)"
   ]
  },
  {
   "cell_type": "code",
   "execution_count": null,
   "metadata": {},
   "outputs": [],
   "source": [
    "with open(\"data/punctuation_correction/summaries/summaries.pkl\", \"wb+\") as file:\n",
    "                pickle.dump(summaries,file)"
   ]
  }
 ],
 "metadata": {
  "kernelspec": {
   "display_name": "gpt",
   "language": "python",
   "name": "gpt"
  },
  "language_info": {
   "codemirror_mode": {
    "name": "ipython",
    "version": 3
   },
   "file_extension": ".py",
   "mimetype": "text/x-python",
   "name": "python",
   "nbconvert_exporter": "python",
   "pygments_lexer": "ipython3",
   "version": "3.10.11"
  },
  "orig_nbformat": 4
 },
 "nbformat": 4,
 "nbformat_minor": 2
}
