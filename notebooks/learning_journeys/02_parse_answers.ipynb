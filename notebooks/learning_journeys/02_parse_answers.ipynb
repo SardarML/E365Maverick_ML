{
 "cells": [
  {
   "cell_type": "code",
   "execution_count": 1,
   "metadata": {},
   "outputs": [],
   "source": [
    "import json\n",
    "\n",
    "\n",
    "with open(\"data/lifelong_learning_raw.json\", \"r\") as json_file:\n",
    "    ll_data = json.load(json_file)\n",
    "\n",
    "with open(\"data/study_subjects_raw.json\", \"r\") as json_file:\n",
    "    study_data = json.load(json_file)"
   ]
  },
  {
   "cell_type": "code",
   "execution_count": 2,
   "metadata": {},
   "outputs": [
    {
     "data": {
      "text/plain": [
       "'{\"title\":\"Barista werden\",\\n\"Skills\": [{\"name\": \"Kaffeebohnen auswählen und mahlen\", \\n            \"description\":\"Lernen Sie die Unterschiede zwischen verschiedenen Kaffeesorten und ihre Geschmacksprofile kennen und erfahren Sie, wie man sie mahlt\", \\n            \"why\":\"Dies ist der Grundstein eines jeden guten Kaffees. Nur durch die perfekte Mahlung können Sie ein optimales Aroma und eine perfekte Textur in Ihrem Kaffee erzielen.\", \\n            \"duration\": \"20 Stunden\"},\\n            \\n            {\"name\": \"Espresso-Extraktion\", \\n            \"description\":\"Lernen Sie die richtige Nutzung der Espresso-Maschine und wie man einen perfekten Espresso extrahiert.\", \\n            \"why\":\"Das Extrahieren eines perfekten Espressos ist die Grundlage für viele Kaffeekreationen und für einen großartigen Kaffeegeschmack von entscheidender Bedeutung.\", \\n            \"duration\": \"30 Stunden\"},\\n            \\n            {\"name\": \"Milch aufschäumen und Latte Art\",\\n            \"description\":\"Lernen Sie die Techniken zum Aufschäumen von Milch, die Sie benötigen, um die Basis vieler Kaffeegetränke wie Cappuccino und Latte Macchiato zu schaffen. Lernen Sie auch, wie Sie einfache Latte Art durchführen können.\", \\n            \"why\":\"Die Fähigkeit, Milch zu perfektem Schaum zu kondensieren und Latte Art zu kreieren, ist das, was den wirklichen Unterschied zwischen einem guten und einem großartigen Barista ausmacht. \", \\n            \"duration\": \"40 Stunden\"},\\n            \\n            {\"name\": \"Verschiedene Kaffeegetränke\",\\n            \"description\":\"Lernen Sie, wie Sie verschiedene Kaffeegetränke wie Cappuccino, Cafe Latte, Americano usw. kreieren.\", \\n            \"why\":\"Die Fähigkeit, Kaffeegetränke zuzubereiten, ist das Tagesgeschäft eines Baristas und ein wichtiger Aspekt, um ein großartiger Barista zu werden.\", \\n            \"duration\": \"50 Stunden\"}],\\n            \\n\"additional info\": \"Sie müssen auch lernen, wie man die Espresso-Maschine und andere Geräte wartet und reinigt, die Sie verwenden werden. Das erfordert zusätzliche Zeit und Sorgfalt.\"}'"
      ]
     },
     "execution_count": 2,
     "metadata": {},
     "output_type": "execute_result"
    }
   ],
   "source": [
    "ll_data[\"Barista\"][\"choices\"][0][\"message\"][\"content\"]"
   ]
  },
  {
   "cell_type": "code",
   "execution_count": 3,
   "metadata": {},
   "outputs": [],
   "source": [
    "study_data_parsed = {}\n",
    "for k in study_data.keys():\n",
    "    content = json.loads(study_data[k][\"choices\"][0][\"message\"][\"content\"])\n",
    "    study_data_parsed[k] = content\n",
    "\n",
    "ll_data_parsed = {}\n",
    "for k in ll_data.keys():\n",
    "    content = json.loads(ll_data[k][\"choices\"][0][\"message\"][\"content\"])\n",
    "    ll_data_parsed[k] = content\n"
   ]
  },
  {
   "cell_type": "code",
   "execution_count": 66,
   "metadata": {},
   "outputs": [
    {
     "data": {
      "text/plain": [
       "[{'name': 'Grundlagen der Betriebswirtschaftslehre',\n",
       "  'description': 'Grundlegendes Verständnis der Betriebswirtschaftslehre',\n",
       "  'why': 'um die Grundlagen der BWL zu verstehen',\n",
       "  'duration': '60 Stunden'},\n",
       " {'name': 'Marketing',\n",
       "  'description': 'Grundlagen des Marketings',\n",
       "  'why': 'um eine zielgerichtete Kundenansprache zu gestalten',\n",
       "  'duration': '80 Stunden'},\n",
       " {'name': 'Rechnungswesen',\n",
       "  'description': 'Verständnis von Buchführung und Bilanzierung',\n",
       "  'why': 'um Geschäftsprozesse und Finanzen zu verstehen',\n",
       "  'duration': '120 Stunden'},\n",
       " {'name': 'Finanzierung',\n",
       "  'description': 'Grundlegende Kenntnisse von Finanzierung und Investition',\n",
       "  'why': 'um Finanzierungsentscheidungen treffen zu können',\n",
       "  'duration': '100 Stunden'},\n",
       " {'name': 'Personalmanagement',\n",
       "  'description': 'Grundlagen des Personalwesens',\n",
       "  'why': 'um Mitarbeiter effizient führen und Verträge schließen zu können',\n",
       "  'duration': '80 Stunden'}]"
      ]
     },
     "execution_count": 66,
     "metadata": {},
     "output_type": "execute_result"
    }
   ],
   "source": [
    "study_data_parsed[\"Betriebswirtschaftslehre\"][\"Skills\"]"
   ]
  },
  {
   "cell_type": "code",
   "execution_count": 67,
   "metadata": {},
   "outputs": [],
   "source": [
    "with open(\"data/study_subjects_parsed.json\", \"w\") as json_file:\n",
    "    json.dump(study_data_parsed, json_file)\n",
    "\n",
    "\n",
    "with open(\"data/lifelong_learning_parsed.json\", \"w\") as json_file:\n",
    "    json.dump(ll_data_parsed, json_file)"
   ]
  }
 ],
 "metadata": {
  "kernelspec": {
   "display_name": "gpt",
   "language": "python",
   "name": "python3"
  },
  "language_info": {
   "codemirror_mode": {
    "name": "ipython",
    "version": 3
   },
   "file_extension": ".py",
   "mimetype": "text/x-python",
   "name": "python",
   "nbconvert_exporter": "python",
   "pygments_lexer": "ipython3",
   "version": "3.10.11"
  },
  "orig_nbformat": 4
 },
 "nbformat": 4,
 "nbformat_minor": 2
}
