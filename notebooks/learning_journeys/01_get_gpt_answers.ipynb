{
 "cells": [
  {
   "cell_type": "code",
   "execution_count": 21,
   "metadata": {},
   "outputs": [],
   "source": [
    "#Note: The openai-python library support for Azure OpenAI is in preview.\n",
    "import os\n",
    "\n",
    "import openai\n",
    "openai.api_type = \"azure\"\n",
    "openai.api_base = \"https://andreastestressource.openai.azure.com/\"\n",
    "openai.api_version = \"2023-05-15\"\n",
    "openai.api_key =  \"1d153d0c7f8b470d856c80e928f94cd4\"\n",
    "deployment_id=\"AndreasTestBereitstellung\"\n",
    "\n",
    "\n"
   ]
  },
  {
   "cell_type": "code",
   "execution_count": 22,
   "metadata": {},
   "outputs": [],
   "source": [
    "study_subjects = [\n",
    "    \"Betriebswirtschaftslehre\",\n",
    "    \"Informatik\",\n",
    "    \"Medizin\",\n",
    "    \"Maschinenbau\",\n",
    "    \"Elektrotechnik\",\n",
    "    \"Psychologie\",\n",
    "    \"Jura/Rechtswissenschaften\",\n",
    "    \"Architektur\",\n",
    "    \"Chemie\",\n",
    "    \"Biologie\",\n",
    "    \"Geschichte\",\n",
    "    \"Soziologie\",\n",
    "    \"Volkswirtschaftslehre\",\n",
    "    \"Mathematik\",\n",
    "    \"Physik\",\n",
    "    \"Politikwissenschaft\",\n",
    "    \"Medienwissenschaft\",\n",
    "    \"Sprachwissenschaft/Linguistik\",\n",
    "    \"Pädagogik\",\n",
    "    \"Philosophie\",\n",
    "    \"Kunstgeschichte\",\n",
    "    \"Sportwissenschaft\",\n",
    "    \"Geografie\",\n",
    "    \"Musikwissenschaft\",\n",
    "    \"Ethnologie\"\n",
    "]\n",
    "\n",
    "\n",
    "lifelong_learning = [\n",
    "    \"Barista\",\n",
    "    \"Gärtner\",\n",
    "    \"Stricken\",\n",
    "    \"Basteln\",\n",
    "    \"Malen\",\n",
    "    \"Kommunizieren\",\n",
    "    \"Meditation\",\n",
    "    \"Campingmanagement\",\n",
    "    \"Scrum\",\n",
    "    \"Azure DevOps\",\n",
    "    \"Projektmanagement\",\n",
    "    \"Immobilien\",\n",
    "    \"Teamleitung\"\n",
    "]\n"
   ]
  },
  {
   "cell_type": "code",
   "execution_count": 23,
   "metadata": {},
   "outputs": [],
   "source": [
    "system_role = \"\"\"You are a helpful assistant who communicates in German and helps to create curriculum in a json format. \n",
    "\n",
    "Your answer should always look like this. \n",
    "\n",
    "{\"title\":\"Title of the learning goal\",\n",
    "\"Skills\": [{\"name\": \"skill 1\", \"description\":\"Summary of skill 1\",\"why\":\"why is skill 1 important\",  \"duration\": \"X Stunden\"}, \n",
    "            {\"name\": \"skill 2\", \"description\":\"Summary of skill 2\",\"why\":\"why is skill 2 important\",\"duration\": \"Y Stunden\"}],\n",
    "\"additional info\": \"everything else you want to say like a description of the learning goal\"}\n",
    "\n",
    "Do not answer anything that is not in that format. \"\"\"\n",
    "first_user_input = \"Ich möchte ein Experte in %s werden. Sag mir, was ich dazu alles lernen sollte. Liste alle Fähigkeiten in einer sinnvollen Reihenfolge auf. Schreib bei jeder Fähigkeit hinzu, wie viele Stunden ich schätzungsweise brauche, um diese Fähigkeit zu lernen. Ich habe einen Highschool-Abschluss und keine andere Vorerfahrung.\"\n",
    "def get_gpt_answer(learning_goal, system_role =system_role, first_user_input=first_user_input):\n",
    "    try:\n",
    "        response = openai.ChatCompletion.create(\n",
    "            deployment_id=deployment_id, # engine = \"deployment_name\".\n",
    "            messages=[\n",
    "                {\"role\": \"system\", \"content\": system_role},\n",
    "                {\"role\": \"user\", \"content\": first_user_input % learning_goal}\n",
    "            ]\n",
    "        )\n",
    "    except Exception as e:\n",
    "        print(f\"Error occurred: {e}\")\n",
    "        response = f\"Error occurred: {e}\"\n",
    "\n",
    "    return response"
   ]
  },
  {
   "cell_type": "code",
   "execution_count": 24,
   "metadata": {},
   "outputs": [
    {
     "name": "stdout",
     "output_type": "stream",
     "text": [
      "Barista\n",
      "Gärtner\n",
      "Stricken\n",
      "Basteln\n",
      "Malen\n",
      "Kommunizieren\n",
      "Meditation\n",
      "Campingmanagement\n",
      "Scrum\n",
      "Azure DevOps\n",
      "Projektmanagement\n",
      "Immobilien\n",
      "Teamleitung\n"
     ]
    }
   ],
   "source": [
    "lifelong_learning_answers = []\n",
    "for l in lifelong_learning:\n",
    "    print(l)\n",
    "    lifelong_learning_answers.append(get_gpt_answer(l))"
   ]
  },
  {
   "cell_type": "code",
   "execution_count": 26,
   "metadata": {},
   "outputs": [],
   "source": [
    "import json\n",
    "\n",
    "#save to json\n",
    "# Combine keys and values into a dictionary\n",
    "data = dict(zip(lifelong_learning, lifelong_learning_answers))\n",
    "\n",
    "# Write the data dictionary to a JSON file\n",
    "with open(\"data/lifelong_learning_raw.json\", \"w\") as json_file:\n",
    "    json.dump(data, json_file)"
   ]
  },
  {
   "cell_type": "code",
   "execution_count": 27,
   "metadata": {},
   "outputs": [
    {
     "name": "stdout",
     "output_type": "stream",
     "text": [
      "Betriebswirtschaftslehre\n",
      "Informatik\n",
      "Medizin\n",
      "Maschinenbau\n",
      "Elektrotechnik\n",
      "Psychologie\n",
      "Jura/Rechtswissenschaften\n",
      "Architektur\n",
      "Chemie\n",
      "Biologie\n",
      "Geschichte\n",
      "Soziologie\n",
      "Volkswirtschaftslehre\n",
      "Mathematik\n",
      "Physik\n",
      "Politikwissenschaft\n",
      "Medienwissenschaft\n",
      "Sprachwissenschaft/Linguistik\n",
      "Pädagogik\n",
      "Philosophie\n",
      "Kunstgeschichte\n",
      "Sportwissenschaft\n",
      "Geografie\n",
      "Musikwissenschaft\n",
      "Ethnologie\n"
     ]
    }
   ],
   "source": [
    "study_subjects_answers = []\n",
    "for l in study_subjects:\n",
    "    print(l)\n",
    "    study_subjects_answers.append(get_gpt_answer(l))"
   ]
  },
  {
   "cell_type": "code",
   "execution_count": 28,
   "metadata": {},
   "outputs": [],
   "source": [
    "#save to json\n",
    "# Combine keys and values into a dictionary\n",
    "data = dict(zip(study_subjects, study_subjects_answers))\n",
    "\n",
    "# Write the data dictionary to a JSON file\n",
    "with open(\"data/study_subjects_raw.json\", \"w\") as json_file:\n",
    "    json.dump(data, json_file)"
   ]
  },
  {
   "cell_type": "code",
   "execution_count": null,
   "metadata": {},
   "outputs": [],
   "source": []
  }
 ],
 "metadata": {
  "kernelspec": {
   "display_name": "gpt",
   "language": "python",
   "name": "python3"
  },
  "language_info": {
   "codemirror_mode": {
    "name": "ipython",
    "version": 3
   },
   "file_extension": ".py",
   "mimetype": "text/x-python",
   "name": "python",
   "nbconvert_exporter": "python",
   "pygments_lexer": "ipython3",
   "version": "3.10.11"
  },
  "orig_nbformat": 4
 },
 "nbformat": 4,
 "nbformat_minor": 2
}
