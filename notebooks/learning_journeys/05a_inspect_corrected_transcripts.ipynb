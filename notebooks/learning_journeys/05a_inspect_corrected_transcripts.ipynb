{
 "cells": [
  {
   "attachments": {},
   "cell_type": "markdown",
   "metadata": {},
   "source": [
    "### A short notebook to inspect the results of the punctuation correction"
   ]
  },
  {
   "cell_type": "code",
   "execution_count": 1,
   "metadata": {},
   "outputs": [],
   "source": [
    "import numpy as np\n",
    "import pickle\n",
    "import pandas as pd"
   ]
  },
  {
   "cell_type": "code",
   "execution_count": 4,
   "metadata": {},
   "outputs": [],
   "source": [
    "import textwrap\n",
    "\n",
    "def pprint(long_string, width = 1150):\n",
    "    # Use the textwrap module to pretty print the string\n",
    "    pretty_string = textwrap.fill(long_string, width=width)\n",
    "    print(pretty_string)\n"
   ]
  },
  {
   "cell_type": "code",
   "execution_count": 3,
   "metadata": {},
   "outputs": [],
   "source": [
    "with open(\"data/punctuation_correction/corrected_transcripts_all.pkl\", \"rb\") as file:\n",
    "    co_transcripts = pickle.load(file)\n"
   ]
  },
  {
   "cell_type": "code",
   "execution_count": 5,
   "metadata": {},
   "outputs": [],
   "source": [
    "def get_data(path): \n",
    "        merged_df = pd.read_csv(path)\n",
    "        strings = merged_df['String']\n",
    "        str_lst = strings.values\n",
    "\n",
    "        vocab = merged_df['Title'].values\n",
    "        identifier = merged_df['identifier']\n",
    "        identifier_vocab = pd.DataFrame({'ID': identifier, 'Vocab': vocab})\n",
    "        identifier_vocab = identifier_vocab.set_index('Vocab')['ID'].to_dict()\n",
    "        return merged_df, str_lst, vocab, identifier_vocab, identifier\n",
    "\n",
    "\n",
    "merged_df, str_lst, vocab, identifier_vocab, identifier = get_data('data/merged_data_for_AI.csv')"
   ]
  },
  {
   "cell_type": "code",
   "execution_count": 6,
   "metadata": {},
   "outputs": [],
   "source": [
    "merged_df[\"co_transcripts\"] = co_transcripts"
   ]
  },
  {
   "attachments": {},
   "cell_type": "markdown",
   "metadata": {},
   "source": [
    "### Lets compare the number of sentences in the original transcripts and in the corrected versions of them. We use the sumy tokenizer to seperate the strings into sentences. "
   ]
  },
  {
   "cell_type": "code",
   "execution_count": 9,
   "metadata": {},
   "outputs": [],
   "source": [
    "from sumy.nlp.tokenizers import Tokenizer as SumyTokenizer\n",
    "sumy_tokenizer = SumyTokenizer(\"de\")\n"
   ]
  },
  {
   "cell_type": "code",
   "execution_count": 11,
   "metadata": {},
   "outputs": [],
   "source": [
    "def count_sentences(text):\n",
    "    global sumy_tokenizer\n",
    "    try:  \n",
    "        sentences =  sumy_tokenizer.to_sentences(text)\n",
    "        sentence_count = len(sentences)\n",
    "    except Exception:\n",
    "        sentence_count = np.nan\n",
    "    \n",
    "    return sentence_count\n"
   ]
  },
  {
   "cell_type": "code",
   "execution_count": 12,
   "metadata": {},
   "outputs": [],
   "source": [
    "merged_df[\"#sentences_original\"] = merged_df[\"transcript\"].apply(count_sentences)\n",
    "merged_df[\"#senteces_corrected\"] = merged_df[\"co_transcripts\"].apply(count_sentences)"
   ]
  },
  {
   "cell_type": "code",
   "execution_count": 13,
   "metadata": {},
   "outputs": [
    {
     "name": "stdout",
     "output_type": "stream",
     "text": [
      "14.841014518595879\n"
     ]
    }
   ],
   "source": [
    "diff = merged_df[\"#senteces_corrected\"]/ merged_df[\"#sentences_original\"]\n",
    "diff = [x for x in diff if not (np.isnan(x) or np.isinf(x))]\n",
    "print(np.mean(diff))"
   ]
  },
  {
   "attachments": {},
   "cell_type": "markdown",
   "metadata": {},
   "source": [
    "### the corrected texts have nealry 15 times the amount of sentences! Lets check in an example, how the original version and the corrected one differ. "
   ]
  },
  {
   "cell_type": "code",
   "execution_count": 14,
   "metadata": {},
   "outputs": [],
   "source": [
    "#index that is used. Change, to see another example\n",
    "example_index = 0"
   ]
  },
  {
   "cell_type": "code",
   "execution_count": 15,
   "metadata": {},
   "outputs": [],
   "source": [
    "#helper function that prints the text in a readable output and also the amount of sentences. \n",
    "def analyze_text(text):\n",
    "    print(\"# Sentences: \", count_sentences(text))\n",
    "    pprint(text)"
   ]
  },
  {
   "cell_type": "code",
   "execution_count": 16,
   "metadata": {},
   "outputs": [
    {
     "name": "stdout",
     "output_type": "stream",
     "text": [
      "# Sentences:  75\n",
      "Hey Leute, willkommen zurück auf dem Kanal. heute werden wir unsere Videoserie fortsetzen, in der wir versuchen, schöne, flatternde Benutzeroberflächen mit Schritt-für-Schritt- Erklärungen nachzubilden. Letzte Woche haben wir diese erste Seite des Designs erstellt. heute werden wir an dieser arbeiten. Wenn also ein Benutzer auf einen dieser Projektordner tippt, wird diese Seite geöffnet. Ich habe diese Seite bereits hier erstellt und auch diese Klasse hinzugefügt, bei der es sich um ein zustandsbehaftetes Widget handelt, das diese gefaltete Eigenschaft aufweist, die den Namen des Ordners darstellt. das wird vom Benutzer angetippt, und hier haben wir die Build-Methode mit nft scaffold. Jetzt gehen wir zurück zur ersten Seite und fügen diesem Container einen Gestendetektor hinzu. damit der Benutzer zur zweiten Seite navigieren kann, Ändern wir den Rückgabetyp davon -Methode zu einem beliebigen Widget, und beim Tippen rufen wir den Navigator des Kontexts auf, um zur Projektseite zu navigieren, die ich Ihnen zuvor gezeigt habe, und geben jetzt den Ordnernamen ein. wenn wir auf dieses Chatbox-Projekt i tippen, t wird die zweite Seite\n",
      "öffnen, die vorerst leer ist. also beginnen wir mit dem Erstellen dieser Seite. aber bevor wir etwas tun, können wir feststellen, dass diese Seite viele Dinge mit dieser Themenordnerseite gemeinsam hat, die wir letzte Woche erstellt haben. Fügen Sie den Link zu diesem Video in die Beschreibung unten ein. Beginnen wir nun mit diesem Kopfzeilenabschnitt, aber fügen wir zuerst die Hintergrundfarbe zum Gerüst und eine Spalte für den Körper hinzu. da wir bereits eine ähnliche Kopfzeile auf der Themenordnerseite erstellt haben, Gehen Sie hierher zurück und wählen Sie diesen Container aus, der die Kopfzeile darstellt, Kopieren Sie ihn und fügen Sie ihn hier ein. Jetzt müssen wir nur noch die blaue Hintergrundfarbe durch einen grauen Hintergrund ersetzen. Ändern Sie die Text-Widgets in der Spalte und passen Sie schließlich diese beiden Symbolschaltflächen hier. für das erste Symbol an, Ändern Sie die Farbe und die Deckkraft des Containers im Hintergrund, und für den zweiten ändern Sie die Farbe, die Deckkraft, dann das Symbol selbst. Ich denke, wir sind mit der Kopfzeile fertig. Jetzt bewegen wir uns. t In diesem Abschnitt können wir hier\n",
      "davon ausgehen, dass diese Liste auf der horizontalen Achse aufrufbar ist. Dazu kommen wir hier unter den Container für die Kopfzeile und fügen die Listenansicht hinzu, und wie erwartet erhalten wir diesen Fehler und beheben ihn. Normalerweise tippen wir, um ein erweitertes Widget zu verwenden, aber da wir in diesem Fall auf der horizontalen Achse scrollen, müssen wir nur eine feste Höhe für die Listenansicht festlegen, indem wir ein Größenfeld oder einen Container verwenden. Geben wir ihm jetzt eine Höhe von 130, Fangen wir an, und die Stunde sollte vorbei sein, um die Elemente in der Liste zu erstellen. Wir verwenden eine Spalte, und innerhalb dieser Spalte fügen wir den Kreis-Avatar mit einem Bild im Hintergrund hinzu, dann ein Text-Widget- Hintergrund verwenden wir Bilder, die gesetzt sind, und den Pfad des Bildes übergeben, und da der Hintergrund einen Bildanbieter benötigt, müssen wir dieses Bild am Ende hinzufügen. Wir verwenden das Größenfeld- Widget, um etwas Platz hinzuzufügen, und dann das Text-Widget für Name ist das Avatar-Bild. auch Lassen Sie uns das beheben, indem wir die Radiuseigenschaft des Kreises von Atar\n",
      "verwenden, der sich in der Mitte befindet, da die Listenansicht standardmäßig so eingestellt ist, dass sie vertikal scrollt, um sie nach links zu verschieben. Wir müssen nur die Scrollrichtung der Listenansicht auf die horizontale Achse einstellen. Jetzt müssen wir einige Polsterungen hinzufügen. dafür kommen wir hierher. Wir platzieren diese Größe Box für Container, damit wir die Polsterungseigenschaft des Containers nutzen können, und da wir nur Polsterungen oben und links benötigen, verwenden wir die Engine set only left 25, top 25.. Um nun die anderen Elemente in der Liste zu erstellen, kommen wir hierher und extrahieren diese Spalte in einer Methode, die wir Avatar erstellen, nennen. Lassen Sie uns die Parameter erstellen: eine Zeichenfolge für den Namen und eine weitere für den Dateinamen. Lassen Sie uns sie in der Methode ersetzen. Jetzt können wir hierher kommen, die richtigen Werte eingeben und die Methode duplizieren. Jetzt müssen wir etwas Platz zwischen den Elementen hinzufügen. dafür könnten wir hierher kommen und das Größenfeld-Widget zwischen den Methoden verwenden, aber ein besserer Ansatz ist WAP- diese Spalte hier\n",
      "mit einer Auffüllung- müssen wir den Rückgabetyp dieser Methode in Widget ändern. Wir werden nur die Auffüllung rechts von jedem Element festlegen, um mit diesem Abschnitt fertig zu werden. Dazu müssen wir diese Zeile unter der Listenansicht hinzufügen. Kommen Sie hierher unter diesen Container und andere Teiler-Widgets. jetzt können wir zu diesem Abschnitt wechseln, und wir gehen wieder davon aus, dass dieser Abschnitt faltbar ist, was bedeutet, dass wir hier unter den Teiler kommen und eine Listenansicht hinzufügen. und da wir eine Listenansicht hinzufügen In der Spalte, haben wir diesen Fehler wieder. und um ihn diesmal zu beheben- da wir planen, auf der vertikalen Achse zu scrollen- müssen wir nur die Listenansicht mit einem erweiterten Widget umschließen. wie man neu startet, und die Stunde ist jetzt für diese Zeile vorbei. es ist ziemlich einfach. Wir müssen nur eine Zeile und zwei Text-Widgets darin einfügen. Lassen Sie uns das jetzt tun, um etwas Platz zwischen den beiden Texten hinzuzufügen. Wir verwenden die Hauptachsenausrichtungseigenschaft der Wand und setzen sie auf den Hauptachsenausrichtungsabstand zwischen und für\n",
      "einige paddings verwenden wir die padding- eigenschaft der listenansicht und setzen sie auf add in set all 25.. jetzt haben wir für diese elemente bereits etwas ähnliches in teil eins dieser serie erstellt. also, anstatt alles von Grund auf neu zu erstellen, kommen wir hierher und kopieren Sie diesen Container. bevor wir ihn einfügen, Lassen Sie uns mit dem Größenfeld-Widget etwas Platz hinzufügen. Jetzt können wir ihn einfügen. Das einzige, was fehlt, ist diese Warnung auf dem Symbol, und da sie sich über dem Symbol befindet, müssen wir den Stapel verwenden. Widget. für die Warnung verwenden wir einen kreisförmigen Avatar. Wir geben ihm eine rote Hintergrundfarbe und einen Radius von 2,5,, um ihn in der oberen rechten Ecke des Symbols zu platzieren. Wir löschen den kreisförmigen Avatar mit dem positionierten Widget, das wir jetzt einstellen können. Seine Right-Eigenschaft ist null und die Top-2. Jetzt müssen wir diesen weißen Rand um den Kreis-Avatar hinzufügen. Es gibt viele Möglichkeiten, wie wir das tun können, aber jetzt werde ich den Container verwenden. dann werde ich die Dekorationseigenschaft dieses Containers verwenden, um\n",
      "ihm einen weißen Hintergrund zu geben, color und die padding-Eigenschaft, um rund um den Kreis Avatar einige Paddings hinzuzufügen. Jetzt müssen Sie nur noch die shape-Eigenschaft der Box-Dekoration verwenden, um den Container abzurunden. Jetzt müssen wir nur noch die anderen Elemente in der Liste erstellen, die wir brauchen Hier, und extrahieren Sie diesen Container. als Methode. Wir nennen ihn Firewall erstellen. Fügen wir unserem Parameter eine Zeichenfolge für den Ordnernamen hinzu. Ersetzen wir ihn dort list. um das zu beheben, kommen wir hierher und fügen einen neuen Parameter hinzu, den wir Show Alert nennen. Die Idee ist, das Positions-Widget und sein untergeordnetes Element nur anzuzeigen, wenn Charlotte wahr ist. und da sich das Positions-Widget in einer Liste befindet, die wir nur brauchen, Um hier jetzt if show alert hinzuzufügen, müssen wir zu den Methoden zurückkehren und zwei für das erste Element und false für die anderen hinzufügen. Jetzt haben wir diese untere Navigationsleiste bereits in Teil eins erstellt, also müssen wir nur hierher kommen. Kopieren Sie dieses Stück Code und fügen Sie es dort unter der Spalte im\n",
      "Gerüst ein, um diesen Fehler zu entfernen. Wir müssen nur hierher kommen und diese ausgewählte Index-Zustandsvariable erstellen. Alles scheint sehr gut zu funktionieren. Wir können zwischen den Seiten scrollen und navigieren, also denke ich wir. Ich habe dieses Design erfolgreich abgeschlossen. Zögern Sie nicht, den Kommentar unten einzugeben, wenn Sie einen Fehler sehen oder etwas, das Sie anders machen würden, wenn Sie es so weit geschafft hätten.\n"
     ]
    }
   ],
   "source": [
    "analyze_text(co_transcripts[example_index])"
   ]
  },
  {
   "cell_type": "code",
   "execution_count": 17,
   "metadata": {},
   "outputs": [
    {
     "name": "stdout",
     "output_type": "stream",
     "text": [
      "# Sentences:  43\n",
      " Hey Leute, willkommen zurück auf dem Kanal, heute werden wir unsere Videoserie fortsetzen, in der wir versuchen, schöne flatternde Benutzeroberflächen mit Schritt-für-Schritt- Erklärungen nachzubilden. Letzte Woche haben wir diese erste Seite des Designs erstellt, heute werden wir an dieser arbeiten  Wenn also ein Benutzer auf einen dieser Projektordner tippt, wird diese Seite geöffnet. Ich habe diese Seite bereits hier erstellt und auch diese Klasse hinzugefügt, bei der es sich um ein zustandsbehaftetes Widget handelt, das diese gefaltete Eigenschaft aufweist, die den Namen des Ordners darstellt das wird vom Benutzer angetippt und hier haben wir die Build-Methode mit nft scaffold. Jetzt gehen wir zurück zur ersten Seite und fügen diesem Container einen Gestendetektor hinzu, damit der Benutzer zur zweiten Seite navigieren kann. Ändern wir den Rückgabetyp davon -Methode zu einem beliebigen Widget und beim Tippen rufen wir den Navigator des Kontexts auf, um zur Projektseite zu navigieren, die ich Ihnen zuvor gezeigt habe, und geben jetzt den Ordnernamen ein, wenn wir auf dieses Chatbox-Projekt i tippen  t wird die zweite Seite\n",
      "öffnen, die vorerst leer ist, also beginnen wir mit dem Erstellen dieser Seite, aber bevor wir etwas tun, können wir feststellen, dass diese Seite viele Dinge mit dieser Themenordnerseite gemeinsam hat, die wir letzte Woche erstellt haben Fügen Sie den Link zu diesem Video in die Beschreibung unten ein. Beginnen wir nun mit diesem Kopfzeilenabschnitt, aber fügen wir zuerst die Hintergrundfarbe zum Gerüst und eine Spalte für den Körper hinzu, da wir bereits eine ähnliche Kopfzeile auf der Themenordnerseite erstellt haben  Gehen Sie hierher zurück und wählen Sie diesen Container aus, der die Kopfzeile darstellt. Kopieren Sie ihn und fügen Sie ihn hier ein. Jetzt müssen wir nur noch die blaue Hintergrundfarbe durch einen grauen Hintergrund ersetzen. Ändern Sie die Text-Widgets in der Spalte und passen Sie schließlich diese beiden Symbolschaltflächen hier für das erste Symbol an  Ändern Sie die Farbe und die Deckkraft des Containers im Hintergrund und für den zweiten ändern Sie die Farbe, die Deckkraft, dann das Symbol selbst. Ich denke, wir sind mit der Kopfzeile fertig. Jetzt bewegen wir uns t  In diesem Abschnitt können wir hier\n",
      "davon ausgehen, dass diese Liste auf der horizontalen Achse aufrufbar ist. Dazu kommen wir hier unter den Container für die Kopfzeile und fügen die Listenansicht hinzu, und wie erwartet erhalten wir diesen Fehler und beheben ihn  Normalerweise tippen wir, um ein erweitertes Widget zu verwenden, aber da wir in diesem Fall auf der horizontalen Achse scrollen, müssen wir nur eine feste Höhe für die Listenansicht festlegen, indem wir ein Größenfeld oder einen Container verwenden. Geben wir ihm jetzt eine Höhe von 130  Fangen wir an und die Stunde sollte vorbei sein, um die Elemente in der Liste zu erstellen. Wir verwenden eine Spalte und innerhalb dieser Spalte fügen wir den Kreis-Avatar mit einem Bild im Hintergrund hinzu, dann ein Text-Widget Hintergrund verwenden wir Bilder, die gesetzt sind und den Pfad des Bildes übergeben, und da der Hintergrund einen Bildanbieter benötigt, müssen wir dieses Bild am Ende hinzufügen. Wir verwenden das Größenfeld- Widget, um etwas Platz hinzuzufügen, und dann das Text-Widget für  Name ist das Avatar-Bild auch  Lassen Sie uns das beheben, indem wir die Radiuseigenschaft des Kreises von Atar\n",
      "verwenden, der sich in der Mitte befindet, da die Listenansicht standardmäßig so eingestellt ist, dass sie vertikal scrollt, um sie nach links zu verschieben. Wir müssen nur die Scrollrichtung der Listenansicht auf die horizontale Achse einstellen Jetzt müssen wir einige Polsterungen hinzufügen, dafür kommen wir hierher. Wir platzieren diese Größe Box für Container, damit wir die Polsterungseigenschaft des Containers nutzen können, und da wir nur Polsterungen oben und links benötigen, verwenden wir die Engine set only left 25 top 25. Um nun die anderen Elemente in der Liste zu erstellen, kommen wir hierher und extrahieren diese Spalte in einer Methode, die wir Avatar erstellen nennen. Lassen Sie uns die Parameter erstellen, eine Zeichenfolge für den Namen und eine weitere für den Dateinamen Lassen Sie uns sie in der Methode ersetzen. Jetzt können wir hierher kommen, die richtigen Werte eingeben und die Methode duplizieren. Jetzt müssen wir etwas Platz zwischen den Elementen hinzufügen, dafür könnten wir hierher kommen und das Größenfeld-Widget zwischen den Methoden verwenden, aber ein besserer Ansatz ist  WAP diese Spalte hier mit\n",
      "einer Auffüllung müssen wir den Rückgabetyp dieser Methode in Widget ändern. Wir werden nur die Auffüllung rechts von jedem Element festlegen, um mit diesem Abschnitt fertig zu werden. Dazu müssen wir diese Zeile unter der Listenansicht hinzufügen Kommen Sie hierher unter diesen Container und andere Teiler-Widgets, jetzt können wir zu diesem Abschnitt wechseln, und wir gehen wieder davon aus, dass dieser Abschnitt faltbar ist, was bedeutet, dass wir hier unter den Teiler kommen und eine Listenansicht hinzufügen, und da wir eine Listenansicht hinzufügen  In der Spalte haben wir diesen Fehler wieder und um ihn diesmal zu beheben, da wir planen, auf der vertikalen Achse zu scrollen, müssen wir nur die Listenansicht mit einem erweiterten Widget umschließen, wie man neu startet und die Stunde ist jetzt für diese Zeile vorbei, es ist ziemlich einfach  Wir müssen nur eine Zeile und zwei Text-Widgets darin einfügen. Lassen Sie uns das jetzt tun, um etwas Platz zwischen den beiden Texten hinzuzufügen. Wir verwenden die Hauptachsenausrichtungseigenschaft der Wand und setzen sie auf den Hauptachsenausrichtungsabstand zwischen und für einige\n",
      "paddings verwenden wir die padding- eigenschaft der listenansicht und setzen sie auf add in set all 25. jetzt haben wir für diese elemente bereits etwas ähnliches in teil eins dieser serie erstellt, also anstatt alles von Grund auf neu zu erstellen, kommen wir  hierher und kopieren Sie diesen Container, bevor wir ihn einfügen. Lassen Sie uns mit dem Größenfeld-Widget etwas Platz hinzufügen. Jetzt können wir ihn einfügen. Das einzige, was fehlt, ist diese Warnung auf dem Symbol, und da sie sich über dem Symbol befindet, müssen wir den Stapel verwenden Widget für die Warnung verwenden wir einen kreisförmigen Avatar. Wir geben ihm eine rote Hintergrundfarbe und einen Radius von 2,5, um ihn in der oberen rechten Ecke des Symbols zu platzieren. Wir löschen den kreisförmigen Avatar mit dem positionierten Widget, das wir jetzt einstellen können  Seine Right-Eigenschaft ist null und die Top-2. Jetzt müssen wir diesen weißen Rand um den Kreis-Avatar hinzufügen. Es gibt viele Möglichkeiten, wie wir das tun können, aber jetzt werde ich den Container verwenden, dann werde ich die Dekorationseigenschaft dieses Containers verwenden um ihm einen\n",
      "weißen Hintergrund zu geben  color und die padding-Eigenschaft, um rund um den Kreis Avatar einige Paddings hinzuzufügen. Jetzt müssen Sie nur noch die shape-Eigenschaft der Box-Dekoration verwenden, um den Container abzurunden. Jetzt müssen wir nur noch die anderen Elemente in der Liste erstellen, die wir brauchen  Hier und extrahieren Sie diesen Container als Methode. Wir nennen ihn Firewall erstellen. Fügen wir unserem Parameter eine Zeichenfolge für den Ordnernamen hinzu. Ersetzen wir ihn dort list, um das zu beheben, kommen wir hierher und fügen einen neuen Parameter hinzu, den wir Show Alert nennen. Die Idee ist, das Positions-Widget und sein untergeordnetes Element nur anzuzeigen, wenn Charlotte wahr ist und da sich das Positions-Widget in einer Liste befindet, die wir nur brauchen  Um hier jetzt if show alert hinzuzufügen, müssen wir zu den Methoden zurückkehren und zwei für das erste Element und false für die anderen hinzufügen. Jetzt haben wir diese untere Navigationsleiste bereits in Teil eins erstellt, also müssen wir nur hierher kommen  Kopieren Sie dieses Stück Code und fügen Sie es dort unter der Spalte im Gerüst ein,\n",
      "um diesen Fehler zu entfernen. Wir müssen nur hierher kommen und diese ausgewählte Index-Zustandsvariable erstellen. Alles scheint sehr gut zu funktionieren. Wir können zwischen den Seiten scrollen und navigieren, also denke ich wir  Ich habe dieses Design erfolgreich abgeschlossen. Zögern Sie nicht, den Kommentar unten einzugeben, wenn Sie einen Fehler sehen oder etwas, das Sie anders machen würden, wenn Sie es so weit geschafft hätten\n"
     ]
    }
   ],
   "source": [
    "analyze_text(merged_df[\"transcript\"][example_index])"
   ]
  }
 ],
 "metadata": {
  "kernelspec": {
   "display_name": "gpt",
   "language": "python",
   "name": "python3"
  },
  "language_info": {
   "codemirror_mode": {
    "name": "ipython",
    "version": 3
   },
   "file_extension": ".py",
   "mimetype": "text/x-python",
   "name": "python",
   "nbconvert_exporter": "python",
   "pygments_lexer": "ipython3",
   "version": "3.10.11"
  },
  "orig_nbformat": 4
 },
 "nbformat": 4,
 "nbformat_minor": 2
}
