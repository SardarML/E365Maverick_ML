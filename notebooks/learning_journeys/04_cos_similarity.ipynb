{
 "cells": [
  {
   "cell_type": "code",
   "execution_count": 49,
   "metadata": {},
   "outputs": [],
   "source": [
    "import json\n",
    "from sentence_transformers import SentenceTransformer\n",
    "import pandas as pd\n",
    "import numpy as np"
   ]
  },
  {
   "cell_type": "code",
   "execution_count": 53,
   "metadata": {},
   "outputs": [],
   "source": [
    "model = SentenceTransformer('sentence-transformers/paraphrase-multilingual-mpnet-base-v2')\n",
    "\n",
    "def get_data(path): \n",
    "        merged_df = pd.read_csv(path)\n",
    "        strings = merged_df['String']\n",
    "        str_lst = strings.values\n",
    "\n",
    "        vocab = merged_df['Title'].values\n",
    "        identifier = merged_df['identifier']\n",
    "        identifier_vocab = pd.DataFrame({'ID': identifier, 'Vocab': vocab})\n",
    "        identifier_vocab = identifier_vocab.set_index('Vocab')['ID'].to_dict()\n",
    "        return merged_df, str_lst, vocab, identifier_vocab, identifier\n",
    "\n",
    "\n",
    "merged_df, str_lst, vocab, identifier_vocab, identifier = get_data('data/merged_data_for_AI.csv')\n"
   ]
  },
  {
   "cell_type": "code",
   "execution_count": 54,
   "metadata": {},
   "outputs": [],
   "source": [
    "import pickle\n",
    "\n",
    "\n",
    "with open(\"data/study_subjects_with_embeddings.pkl\", \"rb\") as pkl_file:\n",
    "    study_data_we = pickle.load(pkl_file)\n",
    "\n",
    "\n",
    "with open(\"data/lifelong_learning_with_embeddings.pkl\", \"rb\") as pkl_file:\n",
    "    ll_data_we = pickle.load(pkl_file)"
   ]
  },
  {
   "cell_type": "code",
   "execution_count": 55,
   "metadata": {},
   "outputs": [
    {
     "ename": "KeyError",
     "evalue": "0",
     "output_type": "error",
     "traceback": [
      "\u001b[0;31m---------------------------------------------------------------------------\u001b[0m",
      "\u001b[0;31mKeyError\u001b[0m                                  Traceback (most recent call last)",
      "Cell \u001b[0;32mIn[55], line 1\u001b[0m\n\u001b[0;32m----> 1\u001b[0m tmp_string \u001b[39m=\u001b[39m study_data_we[\u001b[39m\"\u001b[39;49m\u001b[39mBetriebswirtschaftslehre\u001b[39;49m\u001b[39m\"\u001b[39;49m][\u001b[39m0\u001b[39;49m][\u001b[39m\"\u001b[39m\u001b[39mname\u001b[39m\u001b[39m\"\u001b[39m][\u001b[39m\"\u001b[39m\u001b[39mraw_content\u001b[39m\u001b[39m\"\u001b[39m]\n\u001b[1;32m      2\u001b[0m t_emb \u001b[39m=\u001b[39m study_data_we[\u001b[39m\"\u001b[39m\u001b[39mBetriebswirtschaftslehre\u001b[39m\u001b[39m\"\u001b[39m][\u001b[39m0\u001b[39m][\u001b[39m\"\u001b[39m\u001b[39mname\u001b[39m\u001b[39m\"\u001b[39m][\u001b[39m\"\u001b[39m\u001b[39membedding\u001b[39m\u001b[39m\"\u001b[39m]\n",
      "\u001b[0;31mKeyError\u001b[0m: 0"
     ]
    }
   ],
   "source": [
    "tmp_string = study_data_we[\"Betriebswirtschaftslehre\"][0][\"name\"][\"raw_content\"]\n",
    "#t_emb = study_data_we[\"Betriebswirtschaftslehre\"][0][\"name\"][\"embedding\"]"
   ]
  },
  {
   "cell_type": "code",
   "execution_count": 58,
   "metadata": {},
   "outputs": [
    {
     "name": "stdout",
     "output_type": "stream",
     "text": [
      "(71980, 768)\n"
     ]
    }
   ],
   "source": [
    "video_embeddings = pd.read_csv('data/sentence_transformer_embedding.csv')\n",
    "del video_embeddings['Unnamed: 0']\n",
    "video_embeddings_values = video_embeddings.values\n",
    "print(video_embeddings_values.shape)"
   ]
  },
  {
   "cell_type": "code",
   "execution_count": 59,
   "metadata": {},
   "outputs": [],
   "source": [
    "from sklearn.metrics.pairwise import cosine_similarity\n",
    "\n",
    "def calculate_cosine_similarity(A, b):\n",
    "    # Convert A and b to numpy arrays\n",
    "    A = np.array(A)\n",
    "    b = np.array(b)\n",
    "\n",
    "    # Calculate cosine similarity between A and b\n",
    "    similarity_scores = cosine_similarity(A, b.reshape(1, -1)).flatten()\n",
    "\n",
    "    # Sort the indices based on similarity scores\n",
    "    sorted_indices = np.argsort(similarity_scores)[::-1]\n",
    "\n",
    "    return sorted_indices\n"
   ]
  },
  {
   "cell_type": "code",
   "execution_count": 60,
   "metadata": {},
   "outputs": [
    {
     "name": "stdout",
     "output_type": "stream",
     "text": [
      "[47039 34064 64229 ...  8116 42328 45444]\n"
     ]
    }
   ],
   "source": [
    "res= calculate_cosine_similarity(video_embeddings_values,t_emb)\n",
    "print(res)"
   ]
  },
  {
   "cell_type": "code",
   "execution_count": 61,
   "metadata": {},
   "outputs": [
    {
     "data": {
      "text/plain": [
       "'PHe0bXAIuk0'"
      ]
     },
     "execution_count": 61,
     "metadata": {},
     "output_type": "execute_result"
    }
   ],
   "source": [
    "identifier[47039]"
   ]
  },
  {
   "cell_type": "code",
   "execution_count": 83,
   "metadata": {},
   "outputs": [],
   "source": [
    "def get_top_n_videos(subject,lj_data, video_data_embeddings, video_titles, video_identifier, n = 3):\n",
    "    subject_dict = lj_data[subject]\n",
    "    print(\"Learning journey for \", subject, \" is:\")\n",
    "    for i in subject_dict.keys():\n",
    "        \n",
    "        print(i)\n",
    "        tmp_string = subject_dict[i][\"name\"][\"raw_content\"]\n",
    "        t_emb = subject_dict[i][\"name\"][\"embedding\"]\n",
    "        print(\"to learn \", tmp_string, \" watch the following videos:\")\n",
    "        cosine_similarity_sorted = calculate_cosine_similarity(video_data_embeddings,t_emb)\n",
    "        for index, v in enumerate(cosine_similarity_sorted[:3]):\n",
    "            title = video_titles[v]\n",
    "            #print(index)\n",
    "            #print(title)\n",
    "            url = \"https://www.youtube.com/watch?v=\" + video_identifier[v]\n",
    "            print(\"Video %i: %s\" % (index + 1, title))\n",
    "            print(url)\n"
   ]
  },
  {
   "cell_type": "code",
   "execution_count": 63,
   "metadata": {},
   "outputs": [
    {
     "data": {
      "text/plain": [
       "dict_keys(['Betriebswirtschaftslehre', 'Informatik', 'Medizin', 'Maschinenbau', 'Elektrotechnik', 'Psychologie', 'Jura/Rechtswissenschaften', 'Architektur', 'Chemie', 'Biologie', 'Geschichte', 'Soziologie', 'Volkswirtschaftslehre', 'Mathematik', 'Physik', 'Politikwissenschaft', 'Medienwissenschaft', 'Sprachwissenschaft/Linguistik', 'Pädagogik', 'Philosophie', 'Kunstgeschichte', 'Sportwissenschaft', 'Geografie', 'Musikwissenschaft', 'Ethnologie'])"
      ]
     },
     "execution_count": 63,
     "metadata": {},
     "output_type": "execute_result"
    }
   ],
   "source": [
    "study_data_we.keys()"
   ]
  },
  {
   "cell_type": "code",
   "execution_count": 78,
   "metadata": {},
   "outputs": [],
   "source": [
    "#study_data_we[\"Informatik\"][\"Grundlagen der Informatik\"]"
   ]
  },
  {
   "cell_type": "code",
   "execution_count": 86,
   "metadata": {},
   "outputs": [
    {
     "data": {
      "text/plain": [
       "dict_keys(['Betriebswirtschaftslehre', 'Informatik', 'Medizin', 'Maschinenbau', 'Elektrotechnik', 'Psychologie', 'Jura/Rechtswissenschaften', 'Architektur', 'Chemie', 'Biologie', 'Geschichte', 'Soziologie', 'Volkswirtschaftslehre', 'Mathematik', 'Physik', 'Politikwissenschaft', 'Medienwissenschaft', 'Sprachwissenschaft/Linguistik', 'Pädagogik', 'Philosophie', 'Kunstgeschichte', 'Sportwissenschaft', 'Geografie', 'Musikwissenschaft', 'Ethnologie'])"
      ]
     },
     "execution_count": 86,
     "metadata": {},
     "output_type": "execute_result"
    }
   ],
   "source": [
    "study_data_we.keys()"
   ]
  },
  {
   "cell_type": "code",
   "execution_count": 85,
   "metadata": {},
   "outputs": [
    {
     "name": "stdout",
     "output_type": "stream",
     "text": [
      "Learning journey for  Betriebswirtschaftslehre  is:\n",
      "Grundlagen der Betriebswirtschaftslehre\n",
      "to learn  Grundlagen der Betriebswirtschaftslehre  watch the following videos:\n",
      "Video 1: How The Economic Machine Works by Ray Dalio\n",
      "https://www.youtube.com/watch?v=PHe0bXAIuk0\n",
      "Video 2: The Theory of Production - Economics A2 Level Unit 3\n",
      "https://www.youtube.com/watch?v=jph_CTpjNAY\n",
      "Video 3: 3 Economic Rules of Thumb\n",
      "https://www.youtube.com/watch?v=X0KOV0o1P30\n",
      "Marketing\n",
      "to learn  Marketing  watch the following videos:\n",
      "Video 1: What is Marketing? Marketing In The Real and Business World - Marketing 101\n",
      "https://www.youtube.com/watch?v=VzsNqYARnd0\n",
      "Video 2: How to Develop a Marketing Strategy by Philip Kotler\n",
      "https://www.youtube.com/watch?v=ghFwpoH71NM\n",
      "Video 3: Marketing Mix: Promotion Strategy part 2\n",
      "https://www.youtube.com/watch?v=FT2mJBbU-wE\n",
      "Rechnungswesen\n",
      "to learn  Rechnungswesen  watch the following videos:\n",
      "Video 1: Introduction to Modern Internal Audit (Take Quiz in Description to get 1 CPE)\n",
      "https://www.youtube.com/watch?v=rSoDcwyoQRc\n",
      "Video 2: Accounting Lecture 01 - Basic Concepts\n",
      "https://www.youtube.com/watch?v=Wu6bUFWaNZo\n",
      "Video 3: Accounting Lecture 08 Part I - LIFO, FIFO & Average Cost\n",
      "https://www.youtube.com/watch?v=UGs1EXalrZo\n",
      "Finanzierung\n",
      "to learn  Finanzierung  watch the following videos:\n",
      "Video 1: Get Working Capital, Business Loans & Line of Credit Options with Rok Financial\n",
      "https://www.youtube.com/watch?v=d98vm1aZVrA\n",
      "Video 2: How to Find The Best Business Funding\n",
      "https://www.youtube.com/watch?v=NS2y4sJaU_w\n",
      "Video 3: Überziehungskredit, Dispositionskredit, Kontokorrentkredit | Grundbegriffe der Wirtschaftslehre\n",
      "https://www.youtube.com/watch?v=LfQZMxJWjeY\n",
      "Personalmanagement\n",
      "to learn  Personalmanagement  watch the following videos:\n",
      "Video 1: How to Manage Costs in ProjectManager\n",
      "https://www.youtube.com/watch?v=Vun_Cop6eMw\n",
      "Video 2: Introduction to Modern Internal Audit (Take Quiz in Description to get 1 CPE)\n",
      "https://www.youtube.com/watch?v=rSoDcwyoQRc\n",
      "Video 3: How to Manage Projects with MS Teams | Advisicon\n",
      "https://www.youtube.com/watch?v=tfW325pd3NI\n"
     ]
    }
   ],
   "source": [
    "get_top_n_videos(\"Betriebswirtschaftslehre\", study_data_we, video_embeddings_values,merged_df[\"Title\"],merged_df[\"identifier\"])"
   ]
  },
  {
   "cell_type": "code",
   "execution_count": 87,
   "metadata": {},
   "outputs": [
    {
     "data": {
      "text/plain": [
       "dict_keys(['Barista', 'Gärtner', 'Stricken', 'Basteln', 'Malen', 'Kommunizieren', 'Meditation', 'Campingmanagement', 'Scrum', 'Azure DevOps', 'Projektmanagement', 'Immobilien', 'Teamleitung'])"
      ]
     },
     "execution_count": 87,
     "metadata": {},
     "output_type": "execute_result"
    }
   ],
   "source": [
    "ll_data_we.keys()"
   ]
  },
  {
   "cell_type": "code",
   "execution_count": 89,
   "metadata": {},
   "outputs": [
    {
     "name": "stdout",
     "output_type": "stream",
     "text": [
      "Learning journey for  Azure DevOps  is:\n",
      "Grundlagen der Azure Cloud\n",
      "to learn  Grundlagen der Azure Cloud  watch the following videos:\n",
      "Video 1: Cloud Computing Fundamentals\n",
      "https://www.youtube.com/watch?v=uroryFU78gM\n",
      "Video 2: Intro to Google Cloud, a song!\n",
      "https://www.youtube.com/watch?v=iVFmlgWvJcg\n",
      "Video 3: Continuous Integration, Continuous Deployment (CI-CD) with Azure DevOps\n",
      "https://www.youtube.com/watch?v=jRgLSMlp28U\n",
      "Verwalten von Source Control\n",
      "to learn  Verwalten von Source Control  watch the following videos:\n",
      "Video 1: HikCentral Access Control - Access Control Module Setup and Management\n",
      "https://www.youtube.com/watch?v=nezbYEC0aec\n",
      "Video 2: Track 2 01 From Workstation to Domain Admin Why Secure Administration Isnt Secure and How to Fix It\n",
      "https://www.youtube.com/watch?v=Wdbm2_1tn14\n",
      "Video 3: Control Techniques F600 Pump Drive Energy Features\n",
      "https://www.youtube.com/watch?v=4LicbciyAbc\n",
      "Azure Boards\n",
      "to learn  Azure Boards  watch the following videos:\n",
      "Video 1: Azure Arc enabled Kubernetes with GitOps | Azure Friday\n",
      "https://www.youtube.com/watch?v=4fT47TKprFQ\n",
      "Video 2: Loving Azure Boards with Delivery Plans 2.0\n",
      "https://www.youtube.com/watch?v=TEJTg5kdYE4\n",
      "Video 3: Best practices Using Azure Resource Manager (ARM) Templates\n",
      "https://www.youtube.com/watch?v=myYTGsONrn0\n",
      "Azure Pipelines\n",
      "to learn  Azure Pipelines  watch the following videos:\n",
      "Video 1: Azure Data Pipeline Design in 60 seconds\n",
      "https://www.youtube.com/watch?v=mvkpoRGvTFA\n",
      "Video 2: Continuous Integration & Continuous Delivery Automation With Azure Pipelines\n",
      "https://www.youtube.com/watch?v=tERsk63Ff1w\n",
      "Video 3: Azure DevOps Pipelines Tutorial - Continuous Integration\n",
      "https://www.youtube.com/watch?v=AtRa9Ezz9j4\n",
      "Azure Test Plans\n",
      "to learn  Azure Test Plans  watch the following videos:\n",
      "Video 1: AZ-900 | Microsoft Azure Fundamentals Full Course, Free Practice Tests, Website and Study Guides\n",
      "https://www.youtube.com/watch?v=NPEsD6n9A_I\n",
      "Video 2: MS-100 EP 05: Planning your on-premises infrastructure for Microsoft 365\n",
      "https://www.youtube.com/watch?v=geXlHHDxw1c\n",
      "Video 3: Terraform and Azure DevOps – Delivering a continuous and automated deployment | DevOps Lab\n",
      "https://www.youtube.com/watch?v=Llx4TeU2Hms\n",
      "Azure Artifacts\n",
      "to learn  Azure Artifacts  watch the following videos:\n",
      "Video 1: Terraform and Azure DevOps – Delivering a continuous and automated deployment | DevOps Lab\n",
      "https://www.youtube.com/watch?v=Llx4TeU2Hms\n",
      "Video 2: REPLACED WITH V2 - Microsoft Azure Master Class Part 8 - Application Services\n",
      "https://www.youtube.com/watch?v=_E73_SQN8ZU\n",
      "Video 3: Best practices Using Azure Resource Manager (ARM) Templates\n",
      "https://www.youtube.com/watch?v=myYTGsONrn0\n"
     ]
    }
   ],
   "source": [
    "get_top_n_videos(\"Azure DevOps\", ll_data_we, video_embeddings_values,merged_df[\"Title\"],merged_df[\"identifier\"])"
   ]
  },
  {
   "cell_type": "code",
   "execution_count": null,
   "metadata": {},
   "outputs": [],
   "source": []
  }
 ],
 "metadata": {
  "kernelspec": {
   "display_name": "gpt",
   "language": "python",
   "name": "python3"
  },
  "language_info": {
   "codemirror_mode": {
    "name": "ipython",
    "version": 3
   },
   "file_extension": ".py",
   "mimetype": "text/x-python",
   "name": "python",
   "nbconvert_exporter": "python",
   "pygments_lexer": "ipython3",
   "version": "3.10.11"
  },
  "orig_nbformat": 4
 },
 "nbformat": 4,
 "nbformat_minor": 2
}
