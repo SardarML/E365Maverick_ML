{
 "cells": [
  {
   "attachments": {},
   "cell_type": "markdown",
   "metadata": {},
   "source": [
    "### Notebook to create learning journeys (recommendations of videos to watch to learn a goal) by using encodings and cos similarity"
   ]
  },
  {
   "cell_type": "code",
   "execution_count": 2,
   "metadata": {},
   "outputs": [],
   "source": [
    "import json\n",
    "from sentence_transformers import SentenceTransformer\n",
    "import pandas as pd\n",
    "import numpy as np"
   ]
  },
  {
   "cell_type": "code",
   "execution_count": 3,
   "metadata": {},
   "outputs": [
    {
     "name": "stderr",
     "output_type": "stream",
     "text": [
      "2023-07-12 00:54:54.676880: I tensorflow/core/util/port.cc:110] oneDNN custom operations are on. You may see slightly different numerical results due to floating-point round-off errors from different computation orders. To turn them off, set the environment variable `TF_ENABLE_ONEDNN_OPTS=0`.\n",
      "2023-07-12 00:54:55.126729: I tensorflow/core/platform/cpu_feature_guard.cc:182] This TensorFlow binary is optimized to use available CPU instructions in performance-critical operations.\n",
      "To enable the following instructions: AVX2 AVX512F AVX512_VNNI FMA, in other operations, rebuild TensorFlow with the appropriate compiler flags.\n",
      "2023-07-12 00:55:00.408831: W tensorflow/compiler/tf2tensorrt/utils/py_utils.cc:38] TF-TRT Warning: Could not find TensorRT\n"
     ]
    }
   ],
   "source": [
    "model = SentenceTransformer('sentence-transformers/paraphrase-multilingual-mpnet-base-v2')\n",
    "\n",
    "def get_data(path): \n",
    "        merged_df = pd.read_csv(path)\n",
    "        strings = merged_df['String']\n",
    "        str_lst = strings.values\n",
    "\n",
    "        vocab = merged_df['Title'].values\n",
    "        identifier = merged_df['identifier']\n",
    "        identifier_vocab = pd.DataFrame({'ID': identifier, 'Vocab': vocab})\n",
    "        identifier_vocab = identifier_vocab.set_index('Vocab')['ID'].to_dict()\n",
    "        return merged_df, str_lst, vocab, identifier_vocab, identifier\n",
    "\n",
    "\n",
    "merged_df, str_lst, vocab, identifier_vocab, identifier = get_data('data/merged_data_for_AI.csv')\n"
   ]
  },
  {
   "cell_type": "code",
   "execution_count": 8,
   "metadata": {},
   "outputs": [],
   "source": [
    "import pickle\n",
    "\n",
    "\n",
    "with open(\"data/study_subjects_with_embeddings.pkl\", \"rb\") as pkl_file:\n",
    "    study_data_we = pickle.load(pkl_file)\n",
    "\n",
    "\n",
    "with open(\"data/lifelong_learning_with_embeddings.pkl\", \"rb\") as pkl_file:\n",
    "    ll_data_we = pickle.load(pkl_file)"
   ]
  },
  {
   "cell_type": "code",
   "execution_count": 9,
   "metadata": {},
   "outputs": [],
   "source": [
    "\n",
    "with open(\"data/title_encoded.pkl\", \"rb\") as pkl_file:\n",
    "    title_encoded = pickle.load(pkl_file)"
   ]
  },
  {
   "cell_type": "code",
   "execution_count": 10,
   "metadata": {},
   "outputs": [
    {
     "name": "stdout",
     "output_type": "stream",
     "text": [
      "(71980, 768)\n"
     ]
    }
   ],
   "source": [
    "video_embeddings = pd.read_csv('data/sentence_transformer_embedding.csv')\n",
    "del video_embeddings['Unnamed: 0']\n",
    "video_embeddings_values = video_embeddings.values\n",
    "print(video_embeddings_values.shape)"
   ]
  },
  {
   "cell_type": "code",
   "execution_count": 11,
   "metadata": {},
   "outputs": [],
   "source": [
    "from sklearn.metrics.pairwise import cosine_similarity\n",
    "\n",
    "#function to calculate the cosine similarity between an matrix A and a vector b. Matrix A is the document database and vector b the search query. \n",
    "def calculate_cosine_similarity(A, b):\n",
    "    # Convert A and b to numpy arrays\n",
    "    A = np.array(A)\n",
    "    b = np.array(b)\n",
    "\n",
    "    # Calculate cosine similarity between A and b\n",
    "    similarity_scores = cosine_similarity(A, b.reshape(1, -1)).flatten()\n",
    "\n",
    "    # Sort the indices based on similarity scores\n",
    "    sorted_indices = np.argsort(similarity_scores)[::-1]\n",
    "\n",
    "    return sorted_indices\n"
   ]
  },
  {
   "cell_type": "code",
   "execution_count": 12,
   "metadata": {},
   "outputs": [],
   "source": [
    "def get_top_n_videos(subject,lj_data, database_embeddings, video_titles, video_identifier, n = 3):\n",
    "    '''\n",
    "    function to get the top n videos with the highest cos similarity\n",
    "\n",
    "            Parameters:\n",
    "                    subject (str): The name of the subject someone wants to study. e.g. \"Informatik\"\n",
    "                    lj_data (dict): A dict with different learning journeys and their specific steps. Al steps are NLU encoded. \n",
    "                    database_embeddings (dict): A numpy array with the embeddings of the documents. \n",
    "                    video_titles (list of str): The titles of the videos, to print them for the relevant videos. \n",
    "                    video_identifier (list of str): The ids of the youtube videos, to print the link to the video. \n",
    "                    n (int): number of videos that should be recommended per learning step\n",
    "\n",
    "            \n",
    "    '''\n",
    "    subject_dict = lj_data[subject]\n",
    "    print(\"Learning journey for \", subject, \" is:\")\n",
    "    for i in subject_dict.keys():\n",
    "        \n",
    "        print(i)\n",
    "        tmp_string = subject_dict[i][\"name\"][\"raw_content\"]\n",
    "        t_emb = subject_dict[i][\"name\"][\"embedding\"]\n",
    "        print(\"to learn \", tmp_string, \" watch the following videos:\")\n",
    "        cosine_similarity_sorted = calculate_cosine_similarity(database_embeddings,t_emb)\n",
    "        for index, v in enumerate(cosine_similarity_sorted[:3]):\n",
    "            title = video_titles[v]\n",
    "            #print(index)\n",
    "            #print(title)\n",
    "            url = \"https://www.youtube.com/watch?v=\" + video_identifier[v]\n",
    "            print(\"Video %i: %s\" % (index + 1, title))\n",
    "            print(url)\n",
    "        print(\"____________________________\" + \"\\n\")\n"
   ]
  },
  {
   "attachments": {},
   "cell_type": "markdown",
   "metadata": {},
   "source": [
    "### The learning journeys are stored in the dictonaries study_data_we and ll_data_we. The keys are the subjects they contain journeys for"
   ]
  },
  {
   "cell_type": "code",
   "execution_count": 13,
   "metadata": {},
   "outputs": [
    {
     "data": {
      "text/plain": [
       "dict_keys(['Betriebswirtschaftslehre', 'Informatik', 'Medizin', 'Maschinenbau', 'Elektrotechnik', 'Psychologie', 'Jura/Rechtswissenschaften', 'Architektur', 'Chemie', 'Biologie', 'Geschichte', 'Soziologie', 'Volkswirtschaftslehre', 'Mathematik', 'Physik', 'Politikwissenschaft', 'Medienwissenschaft', 'Sprachwissenschaft/Linguistik', 'Pädagogik', 'Philosophie', 'Kunstgeschichte', 'Sportwissenschaft', 'Geografie', 'Musikwissenschaft', 'Ethnologie'])"
      ]
     },
     "execution_count": 13,
     "metadata": {},
     "output_type": "execute_result"
    }
   ],
   "source": [
    "study_data_we.keys()"
   ]
  },
  {
   "cell_type": "code",
   "execution_count": 14,
   "metadata": {},
   "outputs": [
    {
     "data": {
      "text/plain": [
       "dict_keys(['Barista', 'Gärtner', 'Stricken', 'Basteln', 'Malen', 'Kommunizieren', 'Meditation', 'Campingmanagement', 'Scrum', 'Azure DevOps', 'Projektmanagement', 'Immobilien', 'Teamleitung'])"
      ]
     },
     "execution_count": 14,
     "metadata": {},
     "output_type": "execute_result"
    }
   ],
   "source": [
    "ll_data_we.keys()"
   ]
  },
  {
   "attachments": {},
   "cell_type": "markdown",
   "metadata": {},
   "source": [
    "### title_encoded and video_embeddings_values are both valid encoding databases. \n",
    "- title_encoded: only the title of the videos are encoded. \n",
    "- video_embeddings_values: title, uploader and the transcript are concatenated. Of this concatenation the first 128 tokens are encoded. \n",
    "\n",
    "Change the database to the variable you want to use for the encoding database"
   ]
  },
  {
   "cell_type": "code",
   "execution_count": 15,
   "metadata": {},
   "outputs": [],
   "source": [
    "database = video_embeddings_values\n",
    "#database = title_encoded"
   ]
  },
  {
   "cell_type": "code",
   "execution_count": 16,
   "metadata": {},
   "outputs": [
    {
     "name": "stdout",
     "output_type": "stream",
     "text": [
      "Learning journey for  Informatik  is:\n",
      "Grundlagen der Informatik\n",
      "to learn  Grundlagen der Informatik  watch the following videos:\n",
      "Video 1: IT Fundamentals - 1.1 - ICT and Computer Systems\n",
      "https://www.youtube.com/watch?v=mYXuCeawhm8\n",
      "Video 2: CS-224 Computer Organization Lecture   47\n",
      "https://www.youtube.com/watch?v=OdKFOqtYEAs\n",
      "Video 3: 1.  Introduction\n",
      "https://www.youtube.com/watch?v=6WohmegNYAQ\n",
      "____________________________\n",
      "\n",
      "Programmiergrundlagen\n",
      "to learn  Programmiergrundlagen  watch the following videos:\n",
      "Video 1: #47 Assertions and Design by Contract, Part-1\n",
      "https://www.youtube.com/watch?v=cnEhFwo4u5g\n",
      "Video 2: MANUAL GUIDE i - Inserting a Start Program Fixed Form Sentence\n",
      "https://www.youtube.com/watch?v=sULtGy0RLS0\n",
      "Video 3: Programming Paradigms, Assembly, Procedural, Functional & OOP | Ep28\n",
      "https://www.youtube.com/watch?v=AmS2-9KEeS0\n",
      "____________________________\n",
      "\n",
      "Datenstrukturen und Algorithmen\n",
      "to learn  Datenstrukturen und Algorithmen  watch the following videos:\n",
      "Video 1: Data Structures Lesson 0: Introduction to the Series! | Data Structures and Analysis\n",
      "https://www.youtube.com/watch?v=ZUK_AEGOo2E\n",
      "Video 2: Data Structures Lesson 2: Intro to Big-O Analysis | Data Structures and Analysis\n",
      "https://www.youtube.com/watch?v=Ej_u5OJ_SgQ\n",
      "Video 3: Disjoint Set Data Structure - Union Find Tutorial\n",
      "https://www.youtube.com/watch?v=PGZ64ob440I\n",
      "____________________________\n",
      "\n",
      "Datenbanken und SQL\n",
      "to learn  Datenbanken und SQL  watch the following videos:\n",
      "Video 1: Connect to MySQL Database - Use Select, Insert, Update - C# C Sharp Visual Studio 2010\n",
      "https://www.youtube.com/watch?v=IcD9Jffstmw\n",
      "Video 2: The Differences Between SQL And Oracle Database |BY NOWDEMY OFFICIAL\n",
      "https://www.youtube.com/watch?v=5UvNodFGzhc\n",
      "Video 3: How I use SQL as a Data Analyst\n",
      "https://www.youtube.com/watch?v=GEBzsz8ZSXs\n",
      "____________________________\n",
      "\n",
      "Web-Entwicklung\n",
      "to learn  Web-Entwicklung  watch the following videos:\n",
      "Video 1: WebAssembly: A game changer for the Web | Mozilla\n",
      "https://www.youtube.com/watch?v=MaJCfdmr9Wg\n",
      "Video 2: 🚀 .NET Core 3.1 Web API & Entity Framework Core Jumpstart\n",
      "https://www.youtube.com/watch?v=H4qg9HJX_SE\n",
      "Video 3: Running a WEB SERVER on a 486 MS-DOS PC\n",
      "https://www.youtube.com/watch?v=Kbx_IujL07M\n",
      "____________________________\n",
      "\n",
      "Betriebssysteme\n",
      "to learn  Betriebssysteme  watch the following videos:\n",
      "Video 1: CS-224 Computer Organization Lecture   47\n",
      "https://www.youtube.com/watch?v=OdKFOqtYEAs\n",
      "Video 2: Write your own Operating System in 1 hour\n",
      "https://www.youtube.com/watch?v=1rnA6wpF0o4\n",
      "Video 3: Deploying Operating Systems with System Center 2012 Configuration Manager\n",
      "https://www.youtube.com/watch?v=99I354t500g\n",
      "____________________________\n",
      "\n",
      "Datensicherheit\n",
      "to learn  Datensicherheit  watch the following videos:\n",
      "Video 1: Azure Information Protection End User Training\n",
      "https://www.youtube.com/watch?v=RqVHhKHChWI\n",
      "Video 2: Datadog Security Monitoring\n",
      "https://www.youtube.com/watch?v=_2UjBDHTBLc\n",
      "Video 3: 5 Ways to Protect Your Internet Privacy\n",
      "https://www.youtube.com/watch?v=gPwMLCvvdcc\n",
      "____________________________\n",
      "\n"
     ]
    }
   ],
   "source": [
    "get_top_n_videos(\"Informatik\", study_data_we, database,merged_df[\"Title\"],merged_df[\"identifier\"])"
   ]
  }
 ],
 "metadata": {
  "kernelspec": {
   "display_name": "gpt",
   "language": "python",
   "name": "python3"
  },
  "language_info": {
   "codemirror_mode": {
    "name": "ipython",
    "version": 3
   },
   "file_extension": ".py",
   "mimetype": "text/x-python",
   "name": "python",
   "nbconvert_exporter": "python",
   "pygments_lexer": "ipython3",
   "version": "3.10.11"
  },
  "orig_nbformat": 4
 },
 "nbformat": 4,
 "nbformat_minor": 2
}
