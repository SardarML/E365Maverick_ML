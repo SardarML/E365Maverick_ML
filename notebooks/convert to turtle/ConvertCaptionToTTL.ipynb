{
 "cells": [
  {
   "attachments": {},
   "cell_type": "markdown",
   "metadata": {},
   "source": [
    "# Create Turtle files\n",
    "\n",
    "Takes the JSON files and converts them to Turtle files (Linked Data Fragments). All TTL files are stored back to disk. "
   ]
  },
  {
   "cell_type": "code",
   "execution_count": 1,
   "metadata": {},
   "outputs": [
    {
     "name": "stdout",
     "output_type": "stream",
     "text": [
      "Requirement already satisfied: rdflib in c:\\python311\\lib\\site-packages (6.2.0)\n",
      "Requirement already satisfied: isodate in c:\\python311\\lib\\site-packages (from rdflib) (0.6.1)\n",
      "Requirement already satisfied: pyparsing in c:\\python311\\lib\\site-packages (from rdflib) (3.0.9)\n",
      "Requirement already satisfied: setuptools in c:\\python311\\lib\\site-packages (from rdflib) (65.5.0)\n",
      "Requirement already satisfied: six in c:\\users\\pajom\\appdata\\roaming\\python\\python311\\site-packages (from isodate->rdflib) (1.16.0)\n",
      "Note: you may need to restart the kernel to use updated packages.\n"
     ]
    },
    {
     "name": "stderr",
     "output_type": "stream",
     "text": [
      "\n",
      "[notice] A new release of pip available: 22.3 -> 23.0\n",
      "[notice] To update, run: python.exe -m pip install --upgrade pip\n"
     ]
    }
   ],
   "source": [
    "%pip install rdflib"
   ]
  },
  {
   "attachments": {},
   "cell_type": "markdown",
   "metadata": {},
   "source": [
    "# Globals and imports"
   ]
  },
  {
   "cell_type": "code",
   "execution_count": 13,
   "metadata": {
    "tags": [
     "Definition"
    ]
   },
   "outputs": [],
   "source": [
    "from os.path import isfile, join\n",
    "from os import listdir\n",
    "from pathlib import Path\n",
    "import sys\n",
    "from rdflib import RDF, SDO, Graph, URIRef, BNode\n",
    "import logging\n",
    "import json\n",
    "\n",
    "ns = \"http://schema.org\"\n",
    "base = \"D:\\\\Scraped\\\\youtube\\\\json\\\\captions\"\n",
    "save = \"D:\\\\Scraped\\\\youtube\\\\rdf\\\\captions\""
   ]
  },
  {
   "attachments": {},
   "cell_type": "markdown",
   "metadata": {},
   "source": [
    "# Class Definitions"
   ]
  },
  {
   "cell_type": "code",
   "execution_count": 3,
   "metadata": {
    "tags": [
     "classes"
    ]
   },
   "outputs": [],
   "source": [
    "from __future__ import annotations\n",
    "\n",
    "from rdflib import Graph, URIRef\n",
    "from rdflib.term import Node, URIRef, Literal\n",
    "from rdflib.namespace import FOAF, XSD, URIRef, RDF, DCTERMS, ORG\n",
    "\n",
    "\n",
    "class GraphBuilder:\n",
    "    node: URIRef\n",
    "\n",
    "    def __init__(self):\n",
    "        self.graph = Graph()\n",
    "\n",
    "        pass\n",
    "\n",
    "    def current_node(self, subj: URIRef, node_type: Node) -> GraphBuilder:\n",
    "        self.node = subj\n",
    "        self.graph.add((self.node, RDF.type, node_type))\n",
    "        return self\n",
    "\n",
    "    def add_literal(self, predicate: Node, value: str) -> GraphBuilder:\n",
    "        if value:\n",
    "            self.graph.add((self.node, predicate, Literal(value)))\n",
    "        return self\n",
    "\n",
    "    def add_literal_with_lang(self, predicate: Node, value: str, language: str) -> GraphBuilder:\n",
    "        if value:\n",
    "            self.graph.add((self.node, predicate, Literal(value, lang=language)))\n",
    "        return self\n",
    "\n",
    "    def link_node(self, predicate: Node, node_id: str, node_type: Node) -> GraphBuilder:\n",
    "        if node_id:\n",
    "            linked_node = URIRef(node_id)\n",
    "            self.graph.add((linked_node, RDF.type, node_type))\n",
    "            self.graph.add((self.node, predicate, linked_node))\n",
    "        return self\n",
    "\n",
    "    def link(self, predicate: Node, source: URIRef, target: URIRef) -> GraphBuilder: \n",
    "        self.graph.add((source, predicate, target))\n",
    "        return self\n",
    "\n",
    "    def add_type(self, node_type: URIRef) -> GraphBuilder: \n",
    "        self.graph.add((self.node, RDF.type, node_type))\n",
    "        return self\n",
    "\n",
    "    def add_datetime(self, predicate: Node, value: str) -> GraphBuilder:\n",
    "        if value:\n",
    "            self.graph.add((self.node, predicate, Literal(value, datatype=XSD.date)))\n",
    "        return self\n",
    "\n",
    "    def build(self):\n",
    "        return self.graph\n"
   ]
  },
  {
   "attachments": {},
   "cell_type": "markdown",
   "metadata": {},
   "source": [
    "# Functions"
   ]
  },
  {
   "cell_type": "code",
   "execution_count": 35,
   "metadata": {},
   "outputs": [],
   "source": [
    "from urllib import parse\n",
    "\n",
    "\n",
    "def construct_captions_graph(data: dict) -> str:\n",
    "    b = GraphBuilder()\n",
    "    videoNode = BNode()\n",
    "    b.current_node(videoNode, SDO.VideoObject)\n",
    "    b.add_literal(SDO.identifier, data.get('video_id')) \n",
    "    b.add_literal_with_lang(SDO.caption, data.get(\"de\"), \"de\")\n",
    "    b.add_literal_with_lang(SDO.caption, data.get(\"en\"), \"en\")\n",
    "\n",
    "    graph = b.build()\n",
    "    return graph.serialize(format=\"ttl\")\n",
    "\n",
    "def store(value: str, id: str): \n",
    "    file: Path =  Path.joinpath(Path(save), \"captions_\"+id+\".ttl\")\n",
    "    with open(file, \"w\", encoding=\"utf-8\") as outfile:\n",
    "        outfile.write(value)\n"
   ]
  },
  {
   "attachments": {},
   "cell_type": "markdown",
   "metadata": {},
   "source": [
    "# Main Script"
   ]
  },
  {
   "cell_type": "code",
   "execution_count": 36,
   "metadata": {},
   "outputs": [],
   "source": [
    "onlyfiles = [f for f in listdir(base) if isfile(join(base, f))]\n",
    "for filename in onlyfiles: \n",
    "    file: Path =  Path.joinpath(Path(base), filename)\n",
    "    content = file.open(mode='r', encoding=\"utf-8\")\n",
    "    \n",
    "    data: dict = json.load(content)\n",
    "    serialized = construct_captions_graph(data)\n",
    "    \n",
    "    id = data[\"video_id\"]\n",
    "    store(serialized, id)"
   ]
  }
 ],
 "metadata": {
  "kernelspec": {
   "display_name": "Python 3",
   "language": "python",
   "name": "python3"
  },
  "language_info": {
   "codemirror_mode": {
    "name": "ipython",
    "version": 3
   },
   "file_extension": ".py",
   "mimetype": "text/x-python",
   "name": "python",
   "nbconvert_exporter": "python",
   "pygments_lexer": "ipython3",
   "version": "3.11.0"
  },
  "orig_nbformat": 4,
  "vscode": {
   "interpreter": {
    "hash": "c261aea317cc0286b3b3261fbba9abdec21eaa57589985bb7a274bf54d6cc0a7"
   }
  }
 },
 "nbformat": 4,
 "nbformat_minor": 2
}
